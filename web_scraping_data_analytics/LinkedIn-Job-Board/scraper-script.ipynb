{
 "cells": [
  {
   "cell_type": "code",
   "execution_count": 2,
   "metadata": {},
   "outputs": [],
   "source": [
    "import requests\n",
    "from bs4 import BeautifulSoup\n",
    "import pandas as pd"
   ]
  },
  {
   "cell_type": "code",
   "execution_count": 3,
   "metadata": {},
   "outputs": [],
   "source": [
    "title = 'Analytics Engineer'\n",
    "location = 'San Francisco' "
   ]
  },
  {
   "cell_type": "code",
   "execution_count": null,
   "metadata": {},
   "outputs": [],
   "source": [
    "# {Locations:'San Francisco','San Jose','New York','Seattle'}\n",
    "# {jobs: 'Data Analyst','Analytics Engineer','Data Scientist','Product Manager'}\n",
    "\n",
    "# For the above, the same script used in this file can be run except for replacing the URL in the below code block\n",
    "# Filtering each of the above jobs for each of the above locations gives different URL which can be replaced\n",
    "# It will run and provide the respective jobs in the respective locations and dump it in separate CSV file"
   ]
  },
  {
   "cell_type": "code",
   "execution_count": 4,
   "metadata": {},
   "outputs": [],
   "source": [
    "job_list = []\n",
    "\n",
    "for page_start in range(0, 1000, 100):  \n",
    "    url = f'https://www.linkedin.com/jobs-guest/jobs/api/seeMoreJobPostings/search?keywords=Analytics%2BEngineers&location=San%20Francisco%2C%20CA&start={page_start}'\n",
    "    response = requests.get(url)\n",
    "    list_soup = BeautifulSoup(response.text, \"html.parser\")\n",
    "    page_jobs = list_soup.find_all(\"li\")\n",
    "\n",
    "    for job in page_jobs:\n",
    "        base_card_div = job.find(\"div\", {\"class\": \"base-card\"})\n",
    "        job_id = base_card_div.get(\"data-entity-urn\").split(\":\")[3]\n",
    "\n",
    "        job_url = f\"https://www.linkedin.com/jobs-guest/jobs/api/jobPosting/{job_id}\"\n",
    "        job_response = requests.get(job_url)\n",
    "        job_soup = BeautifulSoup(job_response.text, 'html.parser')\n",
    "        job_post = {}\n",
    "\n",
    "        try:\n",
    "            job_post[\"company_name\"] = job_soup.find(\"a\", {\"class\": \"topcard__org-name-link topcard__flavor--black-link\"}).text.strip()\n",
    "        except:\n",
    "            job_post[\"company_name\"] = None\n",
    "        try:\n",
    "            job_post[\"job_title\"] = job_soup.find(\"h2\", {\"class\": \"top-card-layout__title font-sans text-lg papabear:text-xl font-bold leading-open text-color-text mb-0 topcard__title\"}).text.strip()\n",
    "        except:\n",
    "            job_post[\"job_title\"] = None\n",
    "        try:\n",
    "            job_post[\"location\"] = job_soup.find(\"span\", {\"class\": \"topcard__flavor topcard__flavor--bullet\"}).text.strip()\n",
    "        except:\n",
    "            job_post[\"location\"] = None\n",
    "        try:\n",
    "            job_post[\"num_applicants\"] = job_soup.find(\"span\", {\"class\": \"posted-time-ago__text topcard__flavor--metadata\"}).text.strip()\n",
    "        except:\n",
    "            job_post[\"num_applicants\"] = None\n",
    "\n",
    "        job_list.append(job_post)\n"
   ]
  },
  {
   "cell_type": "code",
   "execution_count": 5,
   "metadata": {},
   "outputs": [
    {
     "name": "stdout",
     "output_type": "stream",
     "text": [
      "                           company_name  \\\n",
      "0                                 Chime   \n",
      "1                        FocusKPI, Inc.   \n",
      "2             San Francisco Health Plan   \n",
      "3                                  Meta   \n",
      "4                              Airtable   \n",
      "..                                  ...   \n",
      "95                         IXL Learning   \n",
      "96                                 Cube   \n",
      "97              Recruiting from Scratch   \n",
      "98              Recruiting from Scratch   \n",
      "99  myGwork - LGBTQ+ Business Community   \n",
      "\n",
      "                                            job_title           location  \\\n",
      "0                      Business Intelligence Engineer  San Francisco, CA   \n",
      "1                                 Junior Data Analyst  San Francisco, CA   \n",
      "2                               Insights Data Analyst  San Francisco, CA   \n",
      "3                            Data Engineer, Analytics     Burlingame, CA   \n",
      "4                                  Analytics Engineer  San Francisco, CA   \n",
      "..                                                ...                ...   \n",
      "95                                IXL Product Manager      San Mateo, CA   \n",
      "96                        Principal Software Engineer  San Francisco, CA   \n",
      "97          Senior Backend Engineer, Startup - Remote  Castro Valley, CA   \n",
      "98          Senior Backend Engineer, Startup - Remote        Hayward, CA   \n",
      "99  Sr. Software Development Engineer, Worldwide A...  San Francisco, CA   \n",
      "\n",
      "   num_applicants  \n",
      "0      6 days ago  \n",
      "1     3 weeks ago  \n",
      "2     1 month ago  \n",
      "3     1 month ago  \n",
      "4      1 week ago  \n",
      "..            ...  \n",
      "95    1 month ago  \n",
      "96     5 days ago  \n",
      "97    1 month ago  \n",
      "98    1 month ago  \n",
      "99    1 month ago  \n",
      "\n",
      "[100 rows x 4 columns]\n"
     ]
    }
   ],
   "source": [
    "jobs_df = pd.DataFrame(job_list)\n",
    "print(jobs_df)"
   ]
  },
  {
   "cell_type": "code",
   "execution_count": 6,
   "metadata": {},
   "outputs": [],
   "source": [
    "jobs_df = pd.DataFrame(job_list)\n",
    "jobs_df.to_csv('Analytics_Engineer_SF.csv', index=False)"
   ]
  },
  {
   "cell_type": "code",
   "execution_count": null,
   "metadata": {},
   "outputs": [],
   "source": []
  }
 ],
 "metadata": {
  "kernelspec": {
   "display_name": "Python 3",
   "language": "python",
   "name": "python3"
  },
  "language_info": {
   "codemirror_mode": {
    "name": "ipython",
    "version": 3
   },
   "file_extension": ".py",
   "mimetype": "text/x-python",
   "name": "python",
   "nbconvert_exporter": "python",
   "pygments_lexer": "ipython3",
   "version": "3.11.9"
  }
 },
 "nbformat": 4,
 "nbformat_minor": 2
}
