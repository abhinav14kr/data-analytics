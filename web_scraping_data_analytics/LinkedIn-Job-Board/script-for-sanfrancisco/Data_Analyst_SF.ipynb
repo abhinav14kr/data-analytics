{
 "cells": [
  {
   "cell_type": "code",
   "execution_count": 1,
   "metadata": {},
   "outputs": [],
   "source": [
    "import requests\n",
    "from bs4 import BeautifulSoup\n",
    "import pandas as pd"
   ]
  },
  {
   "cell_type": "code",
   "execution_count": 2,
   "metadata": {},
   "outputs": [],
   "source": [
    "title = 'Data Analyst'\n",
    "location = 'San Francisco'"
   ]
  },
  {
   "cell_type": "code",
   "execution_count": 3,
   "metadata": {},
   "outputs": [],
   "source": [
    "job_list = []\n",
    "\n",
    "for page_start in range(0, 1000, 100):  \n",
    "    url = f'https://www.linkedin.com/jobs-guest/jobs/api/seeMoreJobPostings/search?keywords=Data%20Analyst&location=San%20Francisco%2C%20California%2C%20United%20States&start={page_start}'\n",
    "    response = requests.get(url)\n",
    "    list_soup = BeautifulSoup(response.text, \"html.parser\")\n",
    "    page_jobs = list_soup.find_all(\"li\")\n",
    "\n",
    "    for job in page_jobs:\n",
    "        base_card_div = job.find(\"div\", {\"class\": \"base-card\"})\n",
    "        job_id = base_card_div.get(\"data-entity-urn\").split(\":\")[3]\n",
    "\n",
    "        job_url = f\"https://www.linkedin.com/jobs-guest/jobs/api/jobPosting/{job_id}\"\n",
    "        job_response = requests.get(job_url)\n",
    "        job_soup = BeautifulSoup(job_response.text, 'html.parser')\n",
    "        job_post = {}\n",
    "\n",
    "        try:\n",
    "            job_post[\"company_name\"] = job_soup.find(\"a\", {\"class\": \"topcard__org-name-link topcard__flavor--black-link\"}).text.strip()\n",
    "        except:\n",
    "            job_post[\"company_name\"] = None\n",
    "        try:\n",
    "            job_post[\"job_title\"] = job_soup.find(\"h2\", {\"class\": \"top-card-layout__title font-sans text-lg papabear:text-xl font-bold leading-open text-color-text mb-0 topcard__title\"}).text.strip()\n",
    "        except:\n",
    "            job_post[\"job_title\"] = None\n",
    "        try:\n",
    "            job_post[\"location\"] = job_soup.find(\"span\", {\"class\": \"topcard__flavor topcard__flavor--bullet\"}).text.strip()\n",
    "        except:\n",
    "            job_post[\"location\"] = None\n",
    "        try:\n",
    "            job_post[\"num_applicants\"] = job_soup.find(\"span\", {\"class\": \"posted-time-ago__text topcard__flavor--metadata\"}).text.strip()\n",
    "        except:\n",
    "            job_post[\"num_applicants\"] = None\n",
    "\n",
    "        job_list.append(job_post)\n"
   ]
  },
  {
   "cell_type": "code",
   "execution_count": 4,
   "metadata": {},
   "outputs": [
    {
     "name": "stdout",
     "output_type": "stream",
     "text": [
      "                                        company_name  \\\n",
      "0                               Unreal Staffing, Inc   \n",
      "1                                     FocusKPI, Inc.   \n",
      "2                          San Francisco Health Plan   \n",
      "3                                             Deputy   \n",
      "4                                               Lyft   \n",
      "..                                               ...   \n",
      "85                             Digitas North America   \n",
      "86                                              None   \n",
      "87                                         Grammarly   \n",
      "88  University of California Office of the President   \n",
      "89                                 Pottery Barn Kids   \n",
      "\n",
      "                                         job_title                  location  \\\n",
      "0                                     Data Analyst         San Francisco, CA   \n",
      "1                              Junior Data Analyst         San Francisco, CA   \n",
      "2                            Insights Data Analyst         San Francisco, CA   \n",
      "3                                     Data Analyst         San Francisco, CA   \n",
      "4             Data Analyst, Strategy & Diagnostics  San Francisco County, CA   \n",
      "..                                             ...                       ...   \n",
      "85                              Analyst, Precision         San Francisco, CA   \n",
      "86                                            None                      None   \n",
      "87           Security Engineer, Corporate Security         San Francisco, CA   \n",
      "88  TEMPORARY ADMINISTRATIVE OPPORTUNITIES - 49418               Oakland, CA   \n",
      "89  Analyst, Digital Marketing - Pottery Barn Kids         San Francisco, CA   \n",
      "\n",
      "   num_applicants  \n",
      "0     2 weeks ago  \n",
      "1     3 weeks ago  \n",
      "2     1 month ago  \n",
      "3     1 month ago  \n",
      "4     1 month ago  \n",
      "..            ...  \n",
      "85    2 weeks ago  \n",
      "86           None  \n",
      "87     1 week ago  \n",
      "88   6 months ago  \n",
      "89    2 weeks ago  \n",
      "\n",
      "[90 rows x 4 columns]\n"
     ]
    }
   ],
   "source": [
    "jobs_df = pd.DataFrame(job_list)\n",
    "print(jobs_df)"
   ]
  },
  {
   "cell_type": "code",
   "execution_count": 5,
   "metadata": {},
   "outputs": [],
   "source": [
    "jobs_df = pd.DataFrame(job_list)\n",
    "jobs_df.to_csv('data_analyst_data_SF.csv', index=False)"
   ]
  }
 ],
 "metadata": {
  "kernelspec": {
   "display_name": "Python 3",
   "language": "python",
   "name": "python3"
  },
  "language_info": {
   "codemirror_mode": {
    "name": "ipython",
    "version": 3
   },
   "file_extension": ".py",
   "mimetype": "text/x-python",
   "name": "python",
   "nbconvert_exporter": "python",
   "pygments_lexer": "ipython3",
   "version": "3.11.9"
  }
 },
 "nbformat": 4,
 "nbformat_minor": 2
}
